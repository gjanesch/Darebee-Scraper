{
 "cells": [
  {
   "cell_type": "code",
   "execution_count": 9,
   "metadata": {
    "collapsed": true
   },
   "outputs": [],
   "source": [
    "import darebee_scraping_functions as dsf\n",
    "import requests\n",
    "import os\n",
    "import re\n",
    "import pandas as pd"
   ]
  },
  {
   "cell_type": "code",
   "execution_count": 2,
   "metadata": {
    "collapsed": false
   },
   "outputs": [
    {
     "name": "stdout",
     "output_type": "stream",
     "text": [
      "Darebee file found - checking for new workouts...\n",
      "               Workout_Name  \\\n",
      "0    Thick And Wide Workout   \n",
      "1  Over The Rainbow Workout   \n",
      "2            Virago Workout   \n",
      "3     Onna Bugeisha Workout   \n",
      "4       Smoking Hot Workout   \n",
      "\n",
      "                                    Workout_Page_URL     Focus  Difficulty  \\\n",
      "0  https://darebee.com/workouts/thick-and-wide-wo...  Strength           3   \n",
      "1  https://darebee.com/workouts/over-the-rainbow-...      Hiit           3   \n",
      "2   https://darebee.com/workouts/virago-workout.html  Strength           4   \n",
      "3  https://darebee.com/workouts/onna-bugeisha-wor...    Combat           4   \n",
      "4  https://darebee.com/workouts/smoking-hot-worko...      Hiit           3   \n",
      "\n",
      "      Works                                            PDF_URL  \\\n",
      "0  Fullbody  https://darebee.com/pdf/workouts/thick-and-wid...   \n",
      "1    Cardio  https://darebee.com/pdf/workouts/over-the-rain...   \n",
      "2  Fullbody  https://darebee.com/pdf/workouts/virago-workou...   \n",
      "3  Fullbody  https://darebee.com/pdf/workouts/onna-bugeisha...   \n",
      "4  Fullbody  https://darebee.com/pdf/workouts/smoking-hot-w...   \n",
      "\n",
      "                                         Description  \\\n",
      "0  Supersize your muscles with the Thick and Wide...   \n",
      "1  Hyperload your muscles and then try to keep yo...   \n",
      "2  Mold yourself into a legend with the Virago su...   \n",
      "3  Embrace your inner warrior and manifest your i...   \n",
      "4  This workout is for those who like it hot and ...   \n",
      "\n",
      "                                        Extra_Credit  \n",
      "0  Keep the plank - don't drop your body to the f...  \n",
      "1                        1 minute rest between sets.  \n",
      "2               Keep your balance during boat folds.  \n",
      "3                        1 minute rest between sets.  \n",
      "4                  Keep the plank whenever possible.  \n",
      "0\n",
      "No new workouts found.\n",
      "Done.\n"
     ]
    }
   ],
   "source": [
    "dsf.create_update_workout_list()"
   ]
  },
  {
   "cell_type": "code",
   "execution_count": 3,
   "metadata": {
    "collapsed": false
   },
   "outputs": [],
   "source": [
    "DAREBEE_FILE_NAME = \"darebee.csv\"\n",
    "darebee = pd.read_csv(DAREBEE_FILE_NAME, sep = \"\\t\")"
   ]
  },
  {
   "cell_type": "code",
   "execution_count": 5,
   "metadata": {
    "collapsed": false,
    "scrolled": true
   },
   "outputs": [
    {
     "data": {
      "text/plain": [
       "'https://darebee.com/pdf/workouts/thick-and-wide-workout.pdf'"
      ]
     },
     "execution_count": 5,
     "metadata": {},
     "output_type": "execute_result"
    }
   ],
   "source": [
    "test_pdf_url = darebee.loc[0,\"PDF_URL\"]\n",
    "test_pdf_url"
   ]
  },
  {
   "cell_type": "code",
   "execution_count": 6,
   "metadata": {
    "collapsed": false
   },
   "outputs": [],
   "source": [
    "def download_workout_pdf(pdf_url, file_destination):\n",
    "    response = requests.get(test_pdf_url)\n",
    "    with open(file_destination,'wb') as f:\n",
    "        f.write(response.content)\n",
    "\n",
    "file_destination = \"./test.pdf\"\n",
    "download_workout_pdf(test_pdf_url, file_destination)"
   ]
  },
  {
   "cell_type": "code",
   "execution_count": 7,
   "metadata": {
    "collapsed": false
   },
   "outputs": [],
   "source": [
    "#set(darebee[\"Difficulty\"])\n",
    "def set_up_workout_folders():\n",
    "    if not os.path.exists(\"./Workout PDFs\"):\n",
    "        os.mkdir(\"./Workout PDFs\")\n",
    "    \n",
    "    for x in range(5):\n",
    "        dir_name = \"Difficulty \" + str(x+1)\n",
    "        if not os.path.exists(\"./Workout PDFs/\" + dir_name):\n",
    "            os.mkdir(\"./Workout PDFs/\" + dir_name)"
   ]
  },
  {
   "cell_type": "code",
   "execution_count": 24,
   "metadata": {
    "collapsed": false
   },
   "outputs": [
    {
     "name": "stdout",
     "output_type": "stream",
     "text": [
      "thick-and-wide-workout.pdf\n",
      "over-the-rainbow-workout.pdf\n",
      "virago-workout.pdf\n",
      "onna-bugeisha-workout.pdf\n",
      "smoking-hot-workout.pdf\n"
     ]
    }
   ],
   "source": [
    "for row in darebee.head().itertuples():\n",
    "    pdf_name = re.search(\"workouts/(.*?)$\", row.PDF_URL).group(1)\n",
    "    print(pdf_name)\n",
    "    workout_file_path = \"./Workout PDFs/\" + str(row[\"Difficulty\"]) + \"/\" + pdf_name\n",
    "    if not os.path.isfile(workout_file_path):\n",
    "        download_workout_pdf(row.PDF_URL, workout_file_path)"
   ]
  }
 ],
 "metadata": {
  "kernelspec": {
   "display_name": "Python 3",
   "language": "python",
   "name": "python3"
  },
  "language_info": {
   "codemirror_mode": {
    "name": "ipython",
    "version": 3
   },
   "file_extension": ".py",
   "mimetype": "text/x-python",
   "name": "python",
   "nbconvert_exporter": "python",
   "pygments_lexer": "ipython3",
   "version": "3.6.1"
  }
 },
 "nbformat": 4,
 "nbformat_minor": 2
}
